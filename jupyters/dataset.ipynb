{
 "cells": [
  {
   "cell_type": "code",
   "execution_count": 1,
   "id": "f5e74ad8-b747-417e-9de8-86ae6cd4e983",
   "metadata": {},
   "outputs": [],
   "source": [
    "import sys\n",
    "sys.path.append('../')\n",
    "\n",
    "%load_ext autoreload\n",
    "%autoreload 2\n",
    "\n",
    "import os\n",
    "from custom_datasets.rollout_push_any import RolloutPushAnyMemDataset\n",
    "from custom_datasets.pusht import PushTDataset\n",
    "from concurrent.futures import ThreadPoolExecutor, wait\n",
    "from datasets import Dataset\n",
    "from lerobot.memory_dataset import MemoryDataset\n",
    "\n",
    "import re\n",
    "from pathlib import Path\n",
    "import zarr\n",
    "import numpy as np\n",
    "import torch\n",
    "import torch.nn.functional as F\n",
    "import imageio\n",
    "from IPython.display import Video\n",
    "\n",
    "from typing import Dict\n",
    "import time"
   ]
  },
  {
   "cell_type": "code",
   "execution_count": 2,
   "id": "40a17c73-2e2e-439a-8bf8-072beb67e8ff",
   "metadata": {},
   "outputs": [],
   "source": [
    "root_path = Path('/home/sm/Datasets/lerobot/pusht')\n",
    "data_path = root_path / 'episodes.pth'"
   ]
  },
  {
   "cell_type": "code",
   "execution_count": 3,
   "id": "7fb4c009-183f-4f81-bb7b-3d8f96fd60b2",
   "metadata": {},
   "outputs": [],
   "source": [
    "data_dict = torch.load(data_path, map_location=torch.device('cpu'))"
   ]
  },
  {
   "cell_type": "code",
   "execution_count": 4,
   "id": "ee5bda46-d7cd-4859-9627-f1509b781f49",
   "metadata": {},
   "outputs": [
    {
     "data": {
      "text/plain": [
       "dict_keys(['action', 'episode_index', 'frame_index', 'next.done', 'next.reward', 'next.success', 'observation.state', 'timestamp', 'observation.image', 'index'])"
      ]
     },
     "execution_count": 4,
     "metadata": {},
     "output_type": "execute_result"
    }
   ],
   "source": [
    "data_dict.keys()"
   ]
  },
  {
   "cell_type": "code",
   "execution_count": 5,
   "id": "94c3042a-2f09-424c-a661-e5fd31005009",
   "metadata": {},
   "outputs": [],
   "source": [
    "dataset = RolloutPushAnyMemDataset('/home/sm/Datasets/lerobot/pusht')"
   ]
  },
  {
   "cell_type": "code",
   "execution_count": 10,
   "id": "fe4972da-761e-4551-bd97-7cb6b3cc29df",
   "metadata": {},
   "outputs": [],
   "source": [
    "memory_dataset = MemoryDataset(data_dict)"
   ]
  },
  {
   "cell_type": "code",
   "execution_count": 7,
   "id": "c835c547-50e9-4f53-9a67-33ac55da116d",
   "metadata": {},
   "outputs": [
    {
     "data": {
      "text/plain": [
       "2000"
      ]
     },
     "execution_count": 7,
     "metadata": {},
     "output_type": "execute_result"
    }
   ],
   "source": [
    "len(dataset)"
   ]
  },
  {
   "cell_type": "code",
   "execution_count": 11,
   "id": "d86b9cd7-c8a0-47f9-9329-7949813c6e94",
   "metadata": {},
   "outputs": [],
   "source": [
    "def get_episode(episode_idx):\n",
    "    from_idx, to_idx = dataset._get_episode_from_to(0)\n",
    "    return memory_dataset[from_idx:to_idx]"
   ]
  },
  {
   "cell_type": "code",
   "execution_count": 24,
   "id": "e6a5c396-71ab-490d-98a6-0a7255b609ce",
   "metadata": {},
   "outputs": [
    {
     "data": {
      "text/plain": [
       "dict_keys(['action', 'episode_index', 'frame_index', 'next.done', 'next.reward', 'next.success', 'observation.state', 'timestamp', 'observation.image', 'index'])"
      ]
     },
     "execution_count": 24,
     "metadata": {},
     "output_type": "execute_result"
    }
   ],
   "source": [
    "d = get_episode(2)\n",
    "d.keys()"
   ]
  },
  {
   "cell_type": "code",
   "execution_count": 26,
   "id": "a3d0f336-1666-471c-a93e-1ce011b65b89",
   "metadata": {},
   "outputs": [],
   "source": [
    "d = {k: v for k, v in d.items() if k != 'index'}"
   ]
  },
  {
   "cell_type": "code",
   "execution_count": 27,
   "id": "d98beebb-ebe5-4f8e-a59d-8c7c96d20578",
   "metadata": {},
   "outputs": [
    {
     "data": {
      "text/plain": [
       "dict_keys(['action', 'episode_index', 'frame_index', 'next.done', 'next.reward', 'next.success', 'observation.state', 'timestamp', 'observation.image'])"
      ]
     },
     "execution_count": 27,
     "metadata": {},
     "output_type": "execute_result"
    }
   ],
   "source": [
    "d.keys()"
   ]
  },
  {
   "cell_type": "code",
   "execution_count": 16,
   "id": "ad06721c-2324-4237-a209-8da06c7ac249",
   "metadata": {},
   "outputs": [],
   "source": [
    "episode_path = root_path / 'episodes'"
   ]
  },
  {
   "cell_type": "code",
   "execution_count": 33,
   "id": "1cd71ed3-8c8f-41d8-850b-565c6a6bd3a9",
   "metadata": {},
   "outputs": [],
   "source": [
    "import re\n",
    "\n",
    "def get_max_episode_id(episode_path):\n",
    "    pattern = re.compile(r\"episode_(\\d+)\\.pth\")\n",
    "    max_idx = -1\n",
    "    for filename in os.listdir(episode_path):\n",
    "        match = pattern.match(filename)\n",
    "        if match:\n",
    "            idx = int(match.group(1))\n",
    "            max_idx = max(max_idx, idx)\n",
    "    return max_idx"
   ]
  },
  {
   "cell_type": "code",
   "execution_count": 34,
   "id": "85b4b393-5eee-471a-bfd7-9082b5711bbe",
   "metadata": {},
   "outputs": [
    {
     "data": {
      "text/plain": [
       "1999"
      ]
     },
     "execution_count": 34,
     "metadata": {},
     "output_type": "execute_result"
    }
   ],
   "source": [
    "get_max_episode_id(episode_path)"
   ]
  },
  {
   "cell_type": "code",
   "execution_count": 35,
   "id": "94909b43-4a9f-41ac-abc4-412169dcc78b",
   "metadata": {},
   "outputs": [],
   "source": [
    "def generate_episode_data(episode_path):\n",
    "    def gen():\n",
    "        num_episodes = get_max_episode_id(episode_path) + 1\n",
    "        total_frames = 0\n",
    "        for episode_idx in range(num_episodes):\n",
    "            d = torch.load(episode_path / f'episode_{episode_idx}.pth')\n",
    "            episode_num_frames = len(d['frame_index'])\n",
    "            d['index'] = torch.arange(total_frames, total_frames + episode_num_frames, 1)\n",
    "            total_frames += episode_num_frames\n",
    "            yield d\n",
    "    return gen"
   ]
  },
  {
   "cell_type": "code",
   "execution_count": 36,
   "id": "1e7ae37e-ce68-47d4-a027-deeedc44842b",
   "metadata": {},
   "outputs": [
    {
     "data": {
      "application/vnd.jupyter.widget-view+json": {
       "model_id": "e07ab2004ea24016b6b2825231c4ec81",
       "version_major": 2,
       "version_minor": 0
      },
      "text/plain": [
       "Generating train split: 0 examples [00:00, ? examples/s]"
      ]
     },
     "metadata": {},
     "output_type": "display_data"
    }
   ],
   "source": [
    "dataset = Dataset.from_generator(generator=generate_episode_data(episode_path))"
   ]
  },
  {
   "cell_type": "code",
   "execution_count": 49,
   "id": "ac4d35e8-ecf9-48e2-9e99-f1bf4da7af35",
   "metadata": {},
   "outputs": [
    {
     "data": {
      "text/plain": [
       "(813, 1083)"
      ]
     },
     "execution_count": 49,
     "metadata": {},
     "output_type": "execute_result"
    }
   ],
   "source": [
    "ep_idx = 3\n",
    "min(dataset[ep_idx]['index']), max(dataset[ep_idx]['index'])"
   ]
  },
  {
   "cell_type": "code",
   "execution_count": null,
   "id": "4383ff2e-e2a3-4f3e-a137-2c13bc9f0a04",
   "metadata": {},
   "outputs": [],
   "source": []
  }
 ],
 "metadata": {
  "kernelspec": {
   "display_name": "Python 3 (ipykernel)",
   "language": "python",
   "name": "python3"
  },
  "language_info": {
   "codemirror_mode": {
    "name": "ipython",
    "version": 3
   },
   "file_extension": ".py",
   "mimetype": "text/x-python",
   "name": "python",
   "nbconvert_exporter": "python",
   "pygments_lexer": "ipython3",
   "version": "3.8.17"
  }
 },
 "nbformat": 4,
 "nbformat_minor": 5
}
