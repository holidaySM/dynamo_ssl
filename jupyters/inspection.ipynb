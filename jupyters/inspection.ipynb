{
 "cells": [
  {
   "cell_type": "code",
   "execution_count": 5,
   "id": "initial_id",
   "metadata": {},
   "outputs": [
    {
     "name": "stdout",
     "output_type": "stream",
     "text": [
      "The autoreload extension is already loaded. To reload it, use:\n",
      "  %reload_ext autoreload\n"
     ]
    }
   ],
   "source": [
    "import sys\n",
    "sys.path.append('../')\n",
    "\n",
    "%load_ext autoreload\n",
    "%autoreload 2\n",
    "\n",
    "import os\n",
    "from custom_datasets.rollout_push_any import RolloutPushAnyMemDataset\n",
    "from custom_datasets.pusht import PushTDataset\n",
    "from concurrent.futures import ThreadPoolExecutor, wait\n",
    "\n",
    "import re\n",
    "from pathlib import Path\n",
    "import zarr\n",
    "import numpy as np\n",
    "import torch\n",
    "import torch.nn.functional as F\n",
    "import imageio\n",
    "from IPython.display import Video\n",
    "\n",
    "from typing import Dict\n",
    "import time\n",
    "from custom_datasets.rollout_push_any import RolloutPushAnyMemDataset\n",
    "from custom_datasets.core import TrajectoryEmbeddingDataset, split_traj_datasets\n",
    "from custom_datasets.vqbet_repro import TrajectorySlicerDataset"
   ]
  },
  {
   "cell_type": "code",
   "execution_count": 2,
   "id": "65b5c888-e25b-4b7e-a58b-e8c0bc75e100",
   "metadata": {},
   "outputs": [],
   "source": [
    "device = 'cuda'"
   ]
  },
  {
   "cell_type": "code",
   "execution_count": 46,
   "id": "b6369e4e-474a-4986-b330-7cf4177d3daf",
   "metadata": {},
   "outputs": [],
   "source": [
    "checkpoint_root_path = '/home/sm/Datasets/dynamo/experiments/checkpoints/pusht'\n",
    "exp_path = checkpoint_root_path + '/2024-11-21/12-17-14/playful-morning-36'\n",
    "pretrain_exp_path = '/home/sm/PycharmProjects/dynamo_ssl/exp_local/for_examination/013554_train_pusht_rollout_dynamo'\n",
    "encoder_path = pretrain_exp_path + \"/encoder_59.pt\"\n",
    "check_point = exp_path + '/completion_idx_3100.json'\n",
    "\n",
    "org_encoder_path = '/home/sm/PycharmProjects/dynamo_ssl/exp_local/2024.11.12/141256_train_pusht_dynamo/encoder.pt'"
   ]
  },
  {
   "cell_type": "markdown",
   "id": "02447187-960c-4bb7-bb47-b884c3c79c41",
   "metadata": {},
   "source": [
    "# Encoder Inspection"
   ]
  },
  {
   "cell_type": "markdown",
   "id": "992fa0ff-d4e3-4781-9a5f-d831672d872d",
   "metadata": {},
   "source": [
    "## Create Encoder"
   ]
  },
  {
   "cell_type": "code",
   "execution_count": 14,
   "id": "efb3e083-7c45-42bc-87a2-2a9afb688348",
   "metadata": {},
   "outputs": [],
   "source": [
    "encoder = torch.load(\"/home/sm/PycharmProjects/dynamo_ssl/exp_local/for_examination/013554_train_pusht_rollout_dynamo/encoder_59.pt\")\n",
    "encoder = encoder.to(device).eval()"
   ]
  },
  {
   "cell_type": "code",
   "execution_count": 47,
   "id": "6bd30ccb-a67d-446b-a960-2282efffed7a",
   "metadata": {},
   "outputs": [],
   "source": [
    "org_encoder = torch.load(org_encoder_path)\n",
    "org_encoder = org_encoder.to(device).eval()"
   ]
  },
  {
   "cell_type": "code",
   "execution_count": 48,
   "id": "adf51110-b570-4017-91a7-4451c4eb4741",
   "metadata": {},
   "outputs": [],
   "source": [
    "rollout_dataset = RolloutPushAnyMemDataset('/home/sm/Datasets/lerobot/pusht')\n",
    "pusht_dataset = PushTDataset('/home/sm/Datasets/dynamo/datasets/dynamo_repro_datasets/pusht_dataset')"
   ]
  },
  {
   "cell_type": "code",
   "execution_count": 49,
   "id": "cb721798-1286-4718-8982-d95c071bbd9d",
   "metadata": {},
   "outputs": [],
   "source": [
    "pusht_embedding_dataset = TrajectoryEmbeddingDataset(\n",
    "    org_encoder, pusht_dataset, device=device, embed_goal=False\n",
    ")"
   ]
  },
  {
   "cell_type": "code",
   "execution_count": 15,
   "id": "34cba3ec-4df8-4a18-a40c-5a858816ec0a",
   "metadata": {},
   "outputs": [],
   "source": [
    "# embedding_dataset = TrajectoryEmbeddingDataset(\n",
    "#     encoder, rollout_dataset, device=device, embed_goal=False\n",
    "# )\n",
    "\n",
    "embedding_dataset = torch.load(pretrain_exp_path + '/embedding.pth')"
   ]
  },
  {
   "cell_type": "code",
   "execution_count": 57,
   "id": "4b874f83-da07-4030-8a75-562f32e5a441",
   "metadata": {},
   "outputs": [],
   "source": [
    "def anaylze_variances(embedding_dataset, num_episodes=100):\n",
    "    num_episodes = 100\n",
    "    episode_indices = np.random.randint(0, len(embedding_dataset), size=num_episodes)\n",
    "    features_of_episodes = [embedding_dataset[i][0].squeeze(1) for i in episode_indices]\n",
    "    \n",
    "    features = torch.cat(features_of_episodes, dim=0)\n",
    "    features = features.cpu().numpy()\n",
    "    dim_variances = np.var(features, axis=0)\n",
    "    img_variances = np.var(features, axis=1)\n",
    "    print(\"Internal Variance\")\n",
    "    print_variance(dim_variances)\n",
    "    print()\n",
    "    print(\"Inter Variance\")\n",
    "    print_variance(img_variances)"
   ]
  },
  {
   "cell_type": "code",
   "execution_count": 60,
   "id": "a274b5b2-2692-46d6-b053-aaf265821079",
   "metadata": {},
   "outputs": [],
   "source": [
    "def print_variance(variances):\n",
    "    print(\"Mean Variance:\", np.mean(variances))\n",
    "    for threshold in [1e-5, 1e-4, 1e-3, 1e-2, 1e-1]:\n",
    "        low_variance_ratio = np.sum(variances < threshold) / len(variances)\n",
    "        print(f\"Low variance dimensions ratio (< {threshold}): {low_variance_ratio:.2%}\")"
   ]
  },
  {
   "cell_type": "code",
   "execution_count": 61,
   "id": "ed88eb8e-69a1-4f69-8852-4619f36a6056",
   "metadata": {},
   "outputs": [
    {
     "name": "stdout",
     "output_type": "stream",
     "text": [
      "Internal Variance\n",
      "Mean Variance: 0.021553116\n",
      "Low variance dimensions ratio (< 1e-05): 19.34%\n",
      "Low variance dimensions ratio (< 0.0001): 33.20%\n",
      "Low variance dimensions ratio (< 0.001): 54.88%\n",
      "Low variance dimensions ratio (< 0.01): 83.20%\n",
      "Low variance dimensions ratio (< 0.1): 94.92%\n",
      "\n",
      "Inter Variance\n",
      "Mean Variance: 0.05111394\n",
      "Low variance dimensions ratio (< 1e-05): 0.00%\n",
      "Low variance dimensions ratio (< 0.0001): 0.00%\n",
      "Low variance dimensions ratio (< 0.001): 0.00%\n",
      "Low variance dimensions ratio (< 0.01): 0.00%\n",
      "Low variance dimensions ratio (< 0.1): 97.32%\n"
     ]
    }
   ],
   "source": [
    "anaylze_variances(embedding_dataset)"
   ]
  },
  {
   "cell_type": "code",
   "execution_count": 62,
   "id": "f91c339b-2d33-4a3d-b2ce-5a483632d3c2",
   "metadata": {},
   "outputs": [
    {
     "name": "stdout",
     "output_type": "stream",
     "text": [
      "Internal Variance\n",
      "Mean Variance: 0.027900876\n",
      "Low variance dimensions ratio (< 1e-05): 0.00%\n",
      "Low variance dimensions ratio (< 0.0001): 0.00%\n",
      "Low variance dimensions ratio (< 0.001): 0.00%\n",
      "Low variance dimensions ratio (< 0.01): 16.02%\n",
      "Low variance dimensions ratio (< 0.1): 97.85%\n",
      "\n",
      "Inter Variance\n",
      "Mean Variance: 0.037196297\n",
      "Low variance dimensions ratio (< 1e-05): 0.00%\n",
      "Low variance dimensions ratio (< 0.0001): 0.00%\n",
      "Low variance dimensions ratio (< 0.001): 0.00%\n",
      "Low variance dimensions ratio (< 0.01): 0.00%\n",
      "Low variance dimensions ratio (< 0.1): 99.87%\n"
     ]
    }
   ],
   "source": [
    "anaylze_variances(pusht_embedding_dataset)"
   ]
  },
  {
   "cell_type": "code",
   "execution_count": null,
   "id": "2fa154f0-521d-4d1f-aa94-c77450f69cc7",
   "metadata": {},
   "outputs": [],
   "source": []
  }
 ],
 "metadata": {
  "kernelspec": {
   "display_name": "Python 3 (ipykernel)",
   "language": "python",
   "name": "python3"
  },
  "language_info": {
   "codemirror_mode": {
    "name": "ipython",
    "version": 3
   },
   "file_extension": ".py",
   "mimetype": "text/x-python",
   "name": "python",
   "nbconvert_exporter": "python",
   "pygments_lexer": "ipython3",
   "version": "3.8.17"
  }
 },
 "nbformat": 4,
 "nbformat_minor": 5
}
