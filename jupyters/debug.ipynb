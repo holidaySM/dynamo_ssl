{
 "cells": [
  {
   "cell_type": "code",
   "execution_count": 2,
   "id": "ebf9ce84-5bb2-4dc1-8469-5090eb0fef43",
   "metadata": {},
   "outputs": [],
   "source": [
    "import sys\n",
    "sys.path.append('../')\n",
    "\n",
    "%load_ext autoreload\n",
    "%autoreload 2\n",
    "\n",
    "import os\n",
    "import custom_datasets\n",
    "from custom_datasets.rollout_push_any import RolloutPushAnyDataset\n",
    "from custom_datasets.concat_datasets import ConcatDataset\n",
    "from custom_datasets.pusht import PushTDataset\n",
    "from torch.utils.data import DataLoader\n",
    "import re\n",
    "from pathlib import Path\n",
    "import zarr\n",
    "import numpy as np\n",
    "import torch\n",
    "import torch.nn.functional as F\n",
    "import imageio\n",
    "from IPython.display import Video\n",
    "\n",
    "from typing import Dict\n",
    "import time\n",
    "\n",
    "import hydra\n",
    "from hydra import initialize, compose\n",
    "from omegaconf import OmegaConf"
   ]
  },
  {
   "cell_type": "code",
   "execution_count": 3,
   "id": "37780613-a2ef-4351-86a0-aad1436038e2",
   "metadata": {},
   "outputs": [
    {
     "name": "stderr",
     "output_type": "stream",
     "text": [
      "/tmp/ipykernel_3624676/4047735570.py:1: UserWarning: \n",
      "The version_base parameter is not specified.\n",
      "Please specify a compatability version level, or None.\n",
      "Will assume defaults for version 1.1\n",
      "  initialize(config_path=\"../configs\", job_name=\"notebook_job\")\n"
     ]
    }
   ],
   "source": [
    "initialize(config_path=\"../configs\", job_name=\"notebook_job\")\n",
    "cfg = compose(config_name=\"train_pusht_rollout.yaml\", overrides=['subset_fraction=0.01'])"
   ]
  },
  {
   "cell_type": "markdown",
   "id": "43d86ee5-8140-450e-864d-0d55cb2f66c0",
   "metadata": {},
   "source": [
    "## Create Dataset"
   ]
  },
  {
   "cell_type": "code",
   "execution_count": 6,
   "id": "962c0dc9-3c72-4d51-b3ca-ddd430c93782",
   "metadata": {},
   "outputs": [],
   "source": [
    "dataset: ConcatDataset = hydra.utils.instantiate(cfg.env.dataset)"
   ]
  },
  {
   "cell_type": "code",
   "execution_count": 29,
   "id": "b31a9095-5ca5-4cc3-a656-1de705287283",
   "metadata": {},
   "outputs": [],
   "source": [
    "def split_and_slice_dataset(dataset):\n",
    "    kwargs = {\n",
    "        \"train_fraction\": cfg.train_fraction,\n",
    "        \"random_seed\": cfg.seed,\n",
    "        \"window_size\": cfg.window_size,\n",
    "        \"future_conditional\": (cfg.goal_conditional == \"future\"),\n",
    "        \"min_future_sep\": cfg.min_future_sep,\n",
    "        \"future_seq_len\": cfg.goal_seq_len,\n",
    "        \"num_extra_predicted_actions\": cfg.num_extra_predicted_actions,\n",
    "    }\n",
    "    return custom_datasets.core.get_train_val_sliced(dataset, **kwargs)"
   ]
  },
  {
   "cell_type": "code",
   "execution_count": 30,
   "id": "ee0535e7-adbc-4b06-a5fc-5b0e9d6a5ca6",
   "metadata": {},
   "outputs": [],
   "source": [
    "train_set, test_set = split_and_slice_dataset(dataset)"
   ]
  },
  {
   "cell_type": "code",
   "execution_count": 31,
   "id": "be53d355-8ce5-48d7-b7d0-d9f9ccc31dd6",
   "metadata": {},
   "outputs": [],
   "source": [
    "train_loader = DataLoader(train_set, shuffle=False, batch_size=8, pin_memory=True)\n",
    "iterator = iter(train_loader)"
   ]
  },
  {
   "cell_type": "code",
   "execution_count": 32,
   "id": "34d055ef-a798-4f03-9beb-6cf57c7e8701",
   "metadata": {},
   "outputs": [],
   "source": [
    "obs, _, _ = next(iterator)"
   ]
  },
  {
   "cell_type": "code",
   "execution_count": 33,
   "id": "2f363353-2d58-4024-a132-8b7cce9dea75",
   "metadata": {},
   "outputs": [
    {
     "data": {
      "text/plain": [
       "torch.Size([8, 5, 1, 3, 224, 224])"
      ]
     },
     "execution_count": 33,
     "metadata": {},
     "output_type": "execute_result"
    }
   ],
   "source": [
    "obs.size()"
   ]
  },
  {
   "cell_type": "markdown",
   "id": "6ccf687c-0810-4b61-9694-70ec5380491d",
   "metadata": {},
   "source": [
    "## Create Models"
   ]
  },
  {
   "cell_type": "code",
   "execution_count": 38,
   "id": "3655ed91-b1fc-485d-91ec-67dff829fecb",
   "metadata": {},
   "outputs": [],
   "source": [
    "encoder = hydra.utils.instantiate(cfg.encoder).to('cuda')\n",
    "encoder_optim = torch.optim.AdamW(\n",
    "    params=encoder.parameters(),\n",
    "    lr=cfg.ssl_lr,\n",
    "    weight_decay=cfg.ssl_weight_decay,\n",
    "    betas=tuple(cfg.betas),\n",
    ")"
   ]
  },
  {
   "cell_type": "code",
   "execution_count": 39,
   "id": "378aa02f-842b-4baa-b619-1a27d525da65",
   "metadata": {},
   "outputs": [],
   "source": [
    "dino_head = hydra.utils.instantiate(cfg.ssl.dino_head).to('cuda')\n",
    "dino_head_optim = torch.optim.AdamW(\n",
    "params=dino_head.parameters(),\n",
    "lr=cfg.ssl_lr,\n",
    "weight_decay=cfg.ssl_weight_decay,\n",
    "betas=tuple(cfg.betas))"
   ]
  },
  {
   "cell_type": "code",
   "execution_count": 40,
   "id": "32ed4407-3212-44ff-b556-8c88555a14d4",
   "metadata": {},
   "outputs": [],
   "source": [
    "projector = hydra.utils.instantiate(cfg.projector, _recursive_=False).to('cuda')\n",
    "projector_optim = projector.configure_optimizers(\n",
    "    lr=cfg.ssl_lr,\n",
    "    weight_decay=cfg.ssl_weight_decay,\n",
    "    betas=tuple(cfg.betas),\n",
    ")    "
   ]
  },
  {
   "cell_type": "code",
   "execution_count": 41,
   "id": "2b73f748-7a17-48a5-8226-8be16c9b38ef",
   "metadata": {},
   "outputs": [],
   "source": [
    "ssl = hydra.utils.instantiate(\n",
    "    cfg.ssl,\n",
    "    encoder=encoder,\n",
    "    dino_head=dino_head,\n",
    "    projector=projector,\n",
    ").to('cuda')"
   ]
  },
  {
   "cell_type": "markdown",
   "id": "3bd74841-db33-4388-8449-4ce8f3c2b909",
   "metadata": {},
   "source": [
    "## Forward pass"
   ]
  },
  {
   "cell_type": "code",
   "execution_count": 34,
   "id": "fbcee795-8cad-4e68-9fae-c7539b903163",
   "metadata": {},
   "outputs": [],
   "source": [
    "obs, _, _ = next(iterator)"
   ]
  },
  {
   "cell_type": "code",
   "execution_count": 63,
   "id": "29ec46a7-c579-43fc-b5a8-d6f7fb839a8e",
   "metadata": {},
   "outputs": [],
   "source": [
    "obs_enc, obs_proj, ssl_loss, ssl_loss_components = ssl.forward(obs.to('cuda'))"
   ]
  },
  {
   "cell_type": "code",
   "execution_count": 64,
   "id": "7b96dd53-9736-42a6-91bf-5d4b1e43aab3",
   "metadata": {},
   "outputs": [],
   "source": [
    "ssl_loss.backward()"
   ]
  },
  {
   "cell_type": "code",
   "execution_count": 65,
   "id": "3a810cdf-df64-407d-ba2b-9fad97b71979",
   "metadata": {},
   "outputs": [
    {
     "data": {
      "text/plain": [
       "False"
      ]
     },
     "execution_count": 65,
     "metadata": {},
     "output_type": "execute_result"
    }
   ],
   "source": [
    "org_p = next(ssl.forward_dynamics.parameters()).clone().detach()\n",
    "ssl.step()\n",
    "torch.equal(org_p, next(ssl.forward_dynamics.parameters()))"
   ]
  },
  {
   "cell_type": "code",
   "execution_count": 60,
   "id": "5ff8a55c-0e47-4b00-b1b9-eadd3c49033c",
   "metadata": {},
   "outputs": [],
   "source": [
    "next(projector.parameters()).grad"
   ]
  },
  {
   "cell_type": "code",
   "execution_count": 62,
   "id": "eedc2915-e0bc-4f10-a72e-eafd7a9a19c4",
   "metadata": {},
   "outputs": [],
   "source": [
    "ssl.step()"
   ]
  },
  {
   "cell_type": "markdown",
   "id": "f80f7315-c5a1-44c8-8545-76d1bf8586e2",
   "metadata": {},
   "source": [
    "## Load Checkpoint"
   ]
  },
  {
   "cell_type": "code",
   "execution_count": 1,
   "id": "cb2c29cb-b786-4191-80c4-5c68f78f53dd",
   "metadata": {},
   "outputs": [],
   "source": [
    "checkpoint_root = '/home/sm/PycharmProjects/dynamo_ssl/exp_local/2024.12.15/185030_train_pusht_rollout_dynamo'"
   ]
  },
  {
   "cell_type": "code",
   "execution_count": 4,
   "id": "650e5b65-b5a7-4846-a8d7-3b89cbede7b2",
   "metadata": {},
   "outputs": [
    {
     "name": "stderr",
     "output_type": "stream",
     "text": [
      "/home/sm/anaconda3/envs/dynamo-repro/lib/python3.8/site-packages/torchvision/models/_utils.py:208: UserWarning: The parameter 'pretrained' is deprecated since 0.13 and may be removed in the future, please use 'weights' instead.\n",
      "  warnings.warn(\n",
      "/home/sm/anaconda3/envs/dynamo-repro/lib/python3.8/site-packages/torchvision/models/_utils.py:223: UserWarning: Arguments other than a weight enum or `None` for 'weights' are deprecated since 0.13 and may be removed in the future. The current behavior is equivalent to passing `weights=None`.\n",
      "  warnings.warn(msg)\n"
     ]
    }
   ],
   "source": [
    "encoder = hydra.utils.instantiate(cfg.encoder)"
   ]
  },
  {
   "cell_type": "code",
   "execution_count": 24,
   "id": "2eb82d2f-4d99-4a4e-ae88-7773b031b50c",
   "metadata": {},
   "outputs": [],
   "source": [
    "ckpt_1 = torch.load(checkpoint_root + '/snapshot_1.pt')\n",
    "ckpt_2 = torch.load(checkpoint_root + '/snapshot_3.pt')\n",
    "\n",
    "model_key = 'dino_head'\n",
    "\n",
    "model1 = ckpt_1[model_key]\n",
    "model2 = ckpt_2[model_key]"
   ]
  },
  {
   "cell_type": "code",
   "execution_count": 26,
   "id": "6195dfb2-c8b1-43a1-a8a2-c7f0833c4d17",
   "metadata": {},
   "outputs": [],
   "source": [
    "model1_sd = {k: v for k, v in model1.named_parameters()}\n",
    "model2_sd = {k: v for k, v in model2.named_parameters()}"
   ]
  },
  {
   "cell_type": "code",
   "execution_count": 27,
   "id": "d38781e0-ca43-4dc4-9d39-2ca7d42a3465",
   "metadata": {},
   "outputs": [
    {
     "name": "stdout",
     "output_type": "stream",
     "text": [
      "last_layer.weight_g\n"
     ]
    }
   ],
   "source": [
    "for k, v in model1_sd.items():\n",
    "    if torch.equal(v, model2_sd[k]):\n",
    "        print(k)"
   ]
  },
  {
   "cell_type": "code",
   "execution_count": null,
   "id": "d2ec81b8-f39f-4092-9d28-051c04626d70",
   "metadata": {},
   "outputs": [],
   "source": []
  }
 ],
 "metadata": {
  "kernelspec": {
   "display_name": "Python 3 (ipykernel)",
   "language": "python",
   "name": "python3"
  },
  "language_info": {
   "codemirror_mode": {
    "name": "ipython",
    "version": 3
   },
   "file_extension": ".py",
   "mimetype": "text/x-python",
   "name": "python",
   "nbconvert_exporter": "python",
   "pygments_lexer": "ipython3",
   "version": "3.8.17"
  }
 },
 "nbformat": 4,
 "nbformat_minor": 5
}
