{
 "cells": [
  {
   "cell_type": "code",
   "execution_count": 1,
   "id": "14ac14b2-a1ac-4710-b50c-e7e74d8fae69",
   "metadata": {},
   "outputs": [],
   "source": [
    "import sys\n",
    "sys.path.append('../')\n",
    "\n",
    "%load_ext autoreload\n",
    "%autoreload 2\n",
    "\n",
    "from custom_datasets.rollout_push_any import RolloutPushAnyDataset\n",
    "from lerobot.rollout_datasets.episode_stores import EpisodeVideoStore\n",
    "\n",
    "from pathlib import Path\n",
    "import zarr\n",
    "import numpy as np\n",
    "import torch\n",
    "import torch.nn.functional as F\n",
    "import imageio\n",
    "from IPython.display import Video"
   ]
  },
  {
   "cell_type": "code",
   "execution_count": 2,
   "id": "733bc2c6-7a6e-437b-afc6-45a518d77754",
   "metadata": {},
   "outputs": [],
   "source": [
    "data_path = \"/home/sm/Datasets/lerobot/pusht\"\n",
    "output_directory = Path(data_path)\n",
    "output_directory.mkdir(parents=True, exist_ok=True)\n",
    "\n",
    "video_directory = output_directory / 'videos'\n",
    "video_directory.mkdir(parents=True, exist_ok=True)\n",
    "\n",
    "new_video_directory = output_directory / 'new_videos'\n",
    "new_video_directory.mkdir(parents=True, exist_ok=True)"
   ]
  },
  {
   "cell_type": "code",
   "execution_count": 68,
   "id": "8a8a4d9d-973f-4c64-a94d-8e6c7ee5d67b",
   "metadata": {},
   "outputs": [
    {
     "ename": "KeyError",
     "evalue": "'data'",
     "output_type": "error",
     "traceback": [
      "\u001b[0;31m---------------------------------------------------------------------------\u001b[0m",
      "\u001b[0;31mKeyError\u001b[0m                                  Traceback (most recent call last)",
      "Cell \u001b[0;32mIn[68], line 3\u001b[0m\n\u001b[1;32m      1\u001b[0m mode \u001b[38;5;241m=\u001b[39m \u001b[38;5;124m'\u001b[39m\u001b[38;5;124mr\u001b[39m\u001b[38;5;124m'\u001b[39m\n\u001b[1;32m      2\u001b[0m root_group \u001b[38;5;241m=\u001b[39m zarr\u001b[38;5;241m.\u001b[39mopen(data_path, mode\u001b[38;5;241m=\u001b[39mmode)\n\u001b[0;32m----> 3\u001b[0m data_group \u001b[38;5;241m=\u001b[39m \u001b[43mroot_group\u001b[49m\u001b[43m[\u001b[49m\u001b[38;5;124;43m'\u001b[39;49m\u001b[38;5;124;43mdata\u001b[39;49m\u001b[38;5;124;43m'\u001b[39;49m\u001b[43m]\u001b[49m\n",
      "File \u001b[0;32m~/anaconda3/envs/dynamo-repro/lib/python3.8/site-packages/zarr/hierarchy.py:500\u001b[0m, in \u001b[0;36mGroup.__getitem__\u001b[0;34m(self, item)\u001b[0m\n\u001b[1;32m    498\u001b[0m         \u001b[38;5;28;01mraise\u001b[39;00m \u001b[38;5;167;01mKeyError\u001b[39;00m(item)\n\u001b[1;32m    499\u001b[0m \u001b[38;5;28;01melse\u001b[39;00m:\n\u001b[0;32m--> 500\u001b[0m     \u001b[38;5;28;01mraise\u001b[39;00m \u001b[38;5;167;01mKeyError\u001b[39;00m(item)\n",
      "\u001b[0;31mKeyError\u001b[0m: 'data'"
     ]
    }
   ],
   "source": [
    "mode = 'r'\n",
    "root_group = zarr.open(data_path, mode=mode)\n",
    "data_group = root_group['data']"
   ]
  },
  {
   "cell_type": "code",
   "execution_count": 11,
   "id": "a1939f99-ef17-4484-9a07-dd9d50b61b6a",
   "metadata": {},
   "outputs": [],
   "source": [
    "zarr_dict = {k: v for k, v in data_group.items()}"
   ]
  },
  {
   "cell_type": "code",
   "execution_count": 13,
   "id": "8bbb235e-f646-4990-a399-828641092a48",
   "metadata": {},
   "outputs": [],
   "source": [
    "frame_infos = zarr_dict['observation.image'][:]"
   ]
  },
  {
   "cell_type": "code",
   "execution_count": 16,
   "id": "8de5f7bb-282b-4692-9a8d-5a609f9af3f5",
   "metadata": {},
   "outputs": [
    {
     "data": {
      "text/plain": [
       "array([{'path': 'videos/observation.image_episode_YSnYvt5M.mp4', 'timestamp': 0.0},\n",
       "       {'path': 'videos/observation.image_episode_YSnYvt5M.mp4', 'timestamp': 0.1},\n",
       "       {'path': 'videos/observation.image_episode_YSnYvt5M.mp4', 'timestamp': 0.2},\n",
       "       ...,\n",
       "       {'path': 'videos/observation.image_episode_fXvLRqMz.mp4', 'timestamp': 16.1},\n",
       "       {'path': 'videos/observation.image_episode_fXvLRqMz.mp4', 'timestamp': 16.2},\n",
       "       {'path': 'videos/observation.image_episode_fXvLRqMz.mp4', 'timestamp': 16.3}],\n",
       "      dtype=object)"
      ]
     },
     "execution_count": 16,
     "metadata": {},
     "output_type": "execute_result"
    }
   ],
   "source": [
    "frame_infos"
   ]
  },
  {
   "cell_type": "code",
   "execution_count": 3,
   "id": "e08bc697-006e-4a95-936e-0d926d5e6055",
   "metadata": {},
   "outputs": [
    {
     "name": "stdout",
     "output_type": "stream",
     "text": [
      "Connected to the exising zarr\n"
     ]
    }
   ],
   "source": [
    "store = EpisodeVideoStore.create_from_path(output_directory)"
   ]
  },
  {
   "cell_type": "code",
   "execution_count": 4,
   "id": "4d76c475-8ec5-4fdc-bb1a-31a82a6a60af",
   "metadata": {},
   "outputs": [],
   "source": [
    "dataset = store.convert_to_lerobot_dataset()"
   ]
  },
  {
   "cell_type": "code",
   "execution_count": 56,
   "id": "4fc37a1c-e289-4289-b7dd-f59d2512c366",
   "metadata": {},
   "outputs": [],
   "source": [
    "def read_frames(dataset, episode_index):\n",
    "    from_idx = dataset.episode_data_index[\"from\"][episode_index].item()\n",
    "    to_idx = dataset.episode_data_index[\"to\"][episode_index].item()\n",
    "    \n",
    "    print(f\"episode {episode_index} start from index {from_idx} to index {to_idx}\")\n",
    "    \n",
    "    frames = [dataset[idx][\"observation.image\"] for idx in range(from_idx, to_idx)]\n",
    "    \n",
    "    return torch.stack(frames, dim=0)\n",
    "\n",
    "def torch_frames_to_video(frames: torch.Tensor):\n",
    "    # Video frames are now float32 in range [0,1] channel first (c,h,w) to follow pytorch convention. To visualize\n",
    "    # them, we convert to uint8 in range [0,255]\n",
    "    return (frames * 255).type(torch.uint8).numpy()\n",
    "\n",
    "def resize_image_tensor(obs):\n",
    "    assert len(obs.size()) == 4  # T, C, H, W\n",
    "    obs = F.interpolate(obs, size=[224, 224], mode='bilinear')\n",
    "    return obs"
   ]
  },
  {
   "cell_type": "code",
   "execution_count": 44,
   "id": "70e66081-c20d-45a9-a582-b1b9a1d71ab3",
   "metadata": {},
   "outputs": [
    {
     "name": "stdout",
     "output_type": "stream",
     "text": [
      "episode 3 start from index 893 to index 1188\n"
     ]
    }
   ],
   "source": [
    "episode_index = 3\n",
    "\n",
    "frames = read_frames(dataset, episode_index)\n",
    "resized_frames = resize_image_tensor(frames)\n"
   ]
  },
  {
   "cell_type": "code",
   "execution_count": 57,
   "id": "07dc24cc-8ee0-4ec2-ae76-ada9840d49ff",
   "metadata": {
    "scrolled": true
   },
   "outputs": [],
   "source": [
    "numpy_frames = torch_frames_to_video(resized_frames)"
   ]
  },
  {
   "cell_type": "code",
   "execution_count": 64,
   "id": "eb146697-2f1a-4723-b1d4-84d4b0840433",
   "metadata": {
    "scrolled": true
   },
   "outputs": [
    {
     "ename": "TypeError",
     "evalue": "create() missing 1 required positional argument: 'shape'",
     "output_type": "error",
     "traceback": [
      "\u001b[0;31m---------------------------------------------------------------------------\u001b[0m",
      "\u001b[0;31mTypeError\u001b[0m                                 Traceback (most recent call last)",
      "Cell \u001b[0;32mIn[64], line 1\u001b[0m\n\u001b[0;32m----> 1\u001b[0m video_group \u001b[38;5;241m=\u001b[39m \u001b[43mroot_group\u001b[49m\u001b[38;5;241;43m.\u001b[39;49m\u001b[43mcreate_dataset\u001b[49m\u001b[43m(\u001b[49m\u001b[38;5;124;43m'\u001b[39;49m\u001b[38;5;124;43mvideo\u001b[39;49m\u001b[38;5;124;43m'\u001b[39;49m\u001b[43m)\u001b[49m\n",
      "File \u001b[0;32m~/anaconda3/envs/dynamo-repro/lib/python3.8/site-packages/zarr/hierarchy.py:1094\u001b[0m, in \u001b[0;36mGroup.create_dataset\u001b[0;34m(self, name, **kwargs)\u001b[0m\n\u001b[1;32m   1035\u001b[0m \u001b[38;5;250m\u001b[39m\u001b[38;5;124;03m\"\"\"Create an array.\u001b[39;00m\n\u001b[1;32m   1036\u001b[0m \n\u001b[1;32m   1037\u001b[0m \u001b[38;5;124;03mArrays are known as \"datasets\" in HDF5 terminology. For compatibility\u001b[39;00m\n\u001b[0;32m   (...)\u001b[0m\n\u001b[1;32m   1090\u001b[0m \n\u001b[1;32m   1091\u001b[0m \u001b[38;5;124;03m\"\"\"\u001b[39;00m\n\u001b[1;32m   1092\u001b[0m \u001b[38;5;28;01massert\u001b[39;00m \u001b[38;5;124m\"\u001b[39m\u001b[38;5;124mmode\u001b[39m\u001b[38;5;124m\"\u001b[39m \u001b[38;5;129;01mnot\u001b[39;00m \u001b[38;5;129;01min\u001b[39;00m kwargs\n\u001b[0;32m-> 1094\u001b[0m \u001b[38;5;28;01mreturn\u001b[39;00m \u001b[38;5;28;43mself\u001b[39;49m\u001b[38;5;241;43m.\u001b[39;49m\u001b[43m_write_op\u001b[49m\u001b[43m(\u001b[49m\u001b[38;5;28;43mself\u001b[39;49m\u001b[38;5;241;43m.\u001b[39;49m\u001b[43m_create_dataset_nosync\u001b[49m\u001b[43m,\u001b[49m\u001b[43m \u001b[49m\u001b[43mname\u001b[49m\u001b[43m,\u001b[49m\u001b[43m \u001b[49m\u001b[38;5;241;43m*\u001b[39;49m\u001b[38;5;241;43m*\u001b[39;49m\u001b[43mkwargs\u001b[49m\u001b[43m)\u001b[49m\n",
      "File \u001b[0;32m~/anaconda3/envs/dynamo-repro/lib/python3.8/site-packages/zarr/hierarchy.py:935\u001b[0m, in \u001b[0;36mGroup._write_op\u001b[0;34m(self, f, *args, **kwargs)\u001b[0m\n\u001b[1;32m    932\u001b[0m     lock \u001b[38;5;241m=\u001b[39m \u001b[38;5;28mself\u001b[39m\u001b[38;5;241m.\u001b[39m_synchronizer[group_meta_key]\n\u001b[1;32m    934\u001b[0m \u001b[38;5;28;01mwith\u001b[39;00m lock:\n\u001b[0;32m--> 935\u001b[0m     \u001b[38;5;28;01mreturn\u001b[39;00m \u001b[43mf\u001b[49m\u001b[43m(\u001b[49m\u001b[38;5;241;43m*\u001b[39;49m\u001b[43margs\u001b[49m\u001b[43m,\u001b[49m\u001b[43m \u001b[49m\u001b[38;5;241;43m*\u001b[39;49m\u001b[38;5;241;43m*\u001b[39;49m\u001b[43mkwargs\u001b[49m\u001b[43m)\u001b[49m\n",
      "File \u001b[0;32m~/anaconda3/envs/dynamo-repro/lib/python3.8/site-packages/zarr/hierarchy.py:1107\u001b[0m, in \u001b[0;36mGroup._create_dataset_nosync\u001b[0;34m(self, name, data, **kwargs)\u001b[0m\n\u001b[1;32m   1105\u001b[0m \u001b[38;5;66;03m# create array\u001b[39;00m\n\u001b[1;32m   1106\u001b[0m \u001b[38;5;28;01mif\u001b[39;00m data \u001b[38;5;129;01mis\u001b[39;00m \u001b[38;5;28;01mNone\u001b[39;00m:\n\u001b[0;32m-> 1107\u001b[0m     a \u001b[38;5;241m=\u001b[39m \u001b[43mcreate\u001b[49m\u001b[43m(\u001b[49m\u001b[43mstore\u001b[49m\u001b[38;5;241;43m=\u001b[39;49m\u001b[38;5;28;43mself\u001b[39;49m\u001b[38;5;241;43m.\u001b[39;49m\u001b[43m_store\u001b[49m\u001b[43m,\u001b[49m\u001b[43m \u001b[49m\u001b[43mpath\u001b[49m\u001b[38;5;241;43m=\u001b[39;49m\u001b[43mpath\u001b[49m\u001b[43m,\u001b[49m\u001b[43m \u001b[49m\u001b[43mchunk_store\u001b[49m\u001b[38;5;241;43m=\u001b[39;49m\u001b[38;5;28;43mself\u001b[39;49m\u001b[38;5;241;43m.\u001b[39;49m\u001b[43m_chunk_store\u001b[49m\u001b[43m,\u001b[49m\u001b[43m \u001b[49m\u001b[38;5;241;43m*\u001b[39;49m\u001b[38;5;241;43m*\u001b[39;49m\u001b[43mkwargs\u001b[49m\u001b[43m)\u001b[49m\n\u001b[1;32m   1109\u001b[0m \u001b[38;5;28;01melse\u001b[39;00m:\n\u001b[1;32m   1110\u001b[0m     a \u001b[38;5;241m=\u001b[39m array(data, store\u001b[38;5;241m=\u001b[39m\u001b[38;5;28mself\u001b[39m\u001b[38;5;241m.\u001b[39m_store, path\u001b[38;5;241m=\u001b[39mpath, chunk_store\u001b[38;5;241m=\u001b[39m\u001b[38;5;28mself\u001b[39m\u001b[38;5;241m.\u001b[39m_chunk_store, \u001b[38;5;241m*\u001b[39m\u001b[38;5;241m*\u001b[39mkwargs)\n",
      "\u001b[0;31mTypeError\u001b[0m: create() missing 1 required positional argument: 'shape'"
     ]
    }
   ],
   "source": [
    "video_group = root_group.create_dataset('video')"
   ]
  },
  {
   "cell_type": "code",
   "execution_count": null,
   "id": "8faf112a-f0ce-48d8-805b-c2087476ae2f",
   "metadata": {},
   "outputs": [],
   "source": []
  }
 ],
 "metadata": {
  "kernelspec": {
   "display_name": "Python 3 (ipykernel)",
   "language": "python",
   "name": "python3"
  },
  "language_info": {
   "codemirror_mode": {
    "name": "ipython",
    "version": 3
   },
   "file_extension": ".py",
   "mimetype": "text/x-python",
   "name": "python",
   "nbconvert_exporter": "python",
   "pygments_lexer": "ipython3",
   "version": "3.8.17"
  }
 },
 "nbformat": 4,
 "nbformat_minor": 5
}
